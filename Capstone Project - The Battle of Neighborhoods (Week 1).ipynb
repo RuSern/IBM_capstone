{
 "cells": [
  {
   "cell_type": "markdown",
   "metadata": {},
   "source": [
    "# IBM Data Science- The Battle of Neighborhoods (Week 1)"
   ]
  },
  {
   "cell_type": "markdown",
   "metadata": {},
   "source": [
    "## Problem Statement"
   ]
  },
  {
   "cell_type": "markdown",
   "metadata": {},
   "source": [
    "A budding music teacher is interested in setting up shop in Manhattan, New York City. Being in the big city, he is unsure of where the best place would be for him to open up his new music school. However, he understands the power of data in order to make a more informed decision. Therefore, utilising data, he would like to determine where the best place to open up a new music school would be. "
   ]
  },
  {
   "cell_type": "markdown",
   "metadata": {},
   "source": [
    "## Data"
   ]
  },
  {
   "cell_type": "markdown",
   "metadata": {},
   "source": [
    "In order to help this budding musician solve his dilemma, data from the New York City neighbourhoods database will be used. Then, based on this dataset and the given lattitude and longitudes of the neighbourhoods, the Foursquare API will be queried in order to find out the distribution of music schools in each neighbourhood. Then, based on the neighbourhood with the lowest density of music schools available, it could be used to determine whether or not the new music school teacher should set up shop there.\n"
   ]
  },
  {
   "cell_type": "markdown",
   "metadata": {},
   "source": [
    "## Methodology"
   ]
  },
  {
   "cell_type": "markdown",
   "metadata": {},
   "source": [
    "The neighbourhood data and its latitude and longitude will be extracted from https://geo.nyu.edu/catalog/nyu_2451_34572.\n",
    "From here, the extracted latitude and longitude will be used to query Foursquare and extracted the available information on the number of music schools.\n",
    "Exploratory data analysis will then be conducted, and the neighbour hoods will be segmented."
   ]
  }
 ],
 "metadata": {
  "kernelspec": {
   "display_name": "Python 3",
   "language": "python",
   "name": "python3"
  },
  "language_info": {
   "codemirror_mode": {
    "name": "ipython",
    "version": 3
   },
   "file_extension": ".py",
   "mimetype": "text/x-python",
   "name": "python",
   "nbconvert_exporter": "python",
   "pygments_lexer": "ipython3",
   "version": "3.6.9"
  }
 },
 "nbformat": 4,
 "nbformat_minor": 4
}
